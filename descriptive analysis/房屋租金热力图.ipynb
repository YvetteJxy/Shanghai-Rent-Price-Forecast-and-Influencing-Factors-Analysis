{
 "cells": [
  {
   "cell_type": "code",
   "execution_count": 1,
   "metadata": {},
   "outputs": [
    {
     "name": "stderr",
     "output_type": "stream",
     "text": [
      "D:\\anaconda\\lib\\site-packages\\numpy\\_distributor_init.py:32: UserWarning: loaded more than 1 DLL from .libs:\n",
      "D:\\anaconda\\lib\\site-packages\\numpy\\.libs\\libopenblas.TXA6YQSD3GCQQC22GEQ54J2UDCXDXHWN.gfortran-win_amd64.dll\n",
      "D:\\anaconda\\lib\\site-packages\\numpy\\.libs\\libopenblas.WCDJNK7YVMPZQ2ME2ZZHJJRJ3JIKNDB7.gfortran-win_amd64.dll\n",
      "  stacklevel=1)\n"
     ]
    }
   ],
   "source": [
    "import numpy as np\n",
    "import pandas as pd\n",
    "import matplotlib.pyplot as plt\n",
    "%matplotlib inline\n",
    "import seaborn as sns\n",
    "import math"
   ]
  },
  {
   "cell_type": "code",
   "execution_count": 2,
   "metadata": {},
   "outputs": [],
   "source": [
    "house = pd.read_csv(\"./house3.csv\",encoding = \"gbk\")"
   ]
  },
  {
   "cell_type": "code",
   "execution_count": 3,
   "metadata": {},
   "outputs": [
    {
     "data": {
      "text/html": [
       "<div>\n",
       "<style scoped>\n",
       "    .dataframe tbody tr th:only-of-type {\n",
       "        vertical-align: middle;\n",
       "    }\n",
       "\n",
       "    .dataframe tbody tr th {\n",
       "        vertical-align: top;\n",
       "    }\n",
       "\n",
       "    .dataframe thead th {\n",
       "        text-align: right;\n",
       "    }\n",
       "</style>\n",
       "<table border=\"1\" class=\"dataframe\">\n",
       "  <thead>\n",
       "    <tr style=\"text-align: right;\">\n",
       "      <th></th>\n",
       "      <th>行政区</th>\n",
       "      <th>房屋面积</th>\n",
       "      <th>卧室</th>\n",
       "      <th>客厅</th>\n",
       "      <th>厕所</th>\n",
       "      <th>楼层相对位置</th>\n",
       "      <th>楼层</th>\n",
       "      <th>发布时长</th>\n",
       "      <th>每月租金</th>\n",
       "      <th>经度</th>\n",
       "      <th>纬度</th>\n",
       "      <th>1000米内最近地铁站距离</th>\n",
       "      <th>1000米内最近公交车站距离</th>\n",
       "      <th>1000米内购物中心数量</th>\n",
       "      <th>1000米内公司数量</th>\n",
       "      <th>1000米内公园数量</th>\n",
       "      <th>1000米内医院数量</th>\n",
       "      <th>房屋类型</th>\n",
       "      <th>是否朝南</th>\n",
       "    </tr>\n",
       "  </thead>\n",
       "  <tbody>\n",
       "    <tr>\n",
       "      <th>0</th>\n",
       "      <td>徐汇</td>\n",
       "      <td>90.56</td>\n",
       "      <td>2</td>\n",
       "      <td>2</td>\n",
       "      <td>1</td>\n",
       "      <td>高楼层</td>\n",
       "      <td>7</td>\n",
       "      <td>4</td>\n",
       "      <td>12000</td>\n",
       "      <td>121.465427</td>\n",
       "      <td>31.206022</td>\n",
       "      <td>1</td>\n",
       "      <td>1</td>\n",
       "      <td>2</td>\n",
       "      <td>87</td>\n",
       "      <td>0</td>\n",
       "      <td>4</td>\n",
       "      <td>4</td>\n",
       "      <td>1</td>\n",
       "    </tr>\n",
       "    <tr>\n",
       "      <th>1</th>\n",
       "      <td>静安</td>\n",
       "      <td>223.47</td>\n",
       "      <td>4</td>\n",
       "      <td>2</td>\n",
       "      <td>3</td>\n",
       "      <td>高楼层</td>\n",
       "      <td>26</td>\n",
       "      <td>3</td>\n",
       "      <td>65000</td>\n",
       "      <td>121.481124</td>\n",
       "      <td>31.249035</td>\n",
       "      <td>1</td>\n",
       "      <td>1</td>\n",
       "      <td>14</td>\n",
       "      <td>86</td>\n",
       "      <td>2</td>\n",
       "      <td>3</td>\n",
       "      <td>4</td>\n",
       "      <td>1</td>\n",
       "    </tr>\n",
       "    <tr>\n",
       "      <th>2</th>\n",
       "      <td>宝山</td>\n",
       "      <td>60.06</td>\n",
       "      <td>1</td>\n",
       "      <td>1</td>\n",
       "      <td>1</td>\n",
       "      <td>高楼层</td>\n",
       "      <td>19</td>\n",
       "      <td>4</td>\n",
       "      <td>4700</td>\n",
       "      <td>121.442076</td>\n",
       "      <td>31.344595</td>\n",
       "      <td>1</td>\n",
       "      <td>1</td>\n",
       "      <td>1</td>\n",
       "      <td>96</td>\n",
       "      <td>5</td>\n",
       "      <td>2</td>\n",
       "      <td>4</td>\n",
       "      <td>1</td>\n",
       "    </tr>\n",
       "    <tr>\n",
       "      <th>3</th>\n",
       "      <td>浦东</td>\n",
       "      <td>54.87</td>\n",
       "      <td>1</td>\n",
       "      <td>2</td>\n",
       "      <td>1</td>\n",
       "      <td>高楼层</td>\n",
       "      <td>25</td>\n",
       "      <td>1</td>\n",
       "      <td>5200</td>\n",
       "      <td>121.562591</td>\n",
       "      <td>31.252661</td>\n",
       "      <td>2</td>\n",
       "      <td>1</td>\n",
       "      <td>3</td>\n",
       "      <td>89</td>\n",
       "      <td>2</td>\n",
       "      <td>2</td>\n",
       "      <td>4</td>\n",
       "      <td>1</td>\n",
       "    </tr>\n",
       "    <tr>\n",
       "      <th>4</th>\n",
       "      <td>青浦</td>\n",
       "      <td>120.91</td>\n",
       "      <td>3</td>\n",
       "      <td>2</td>\n",
       "      <td>2</td>\n",
       "      <td>低楼层</td>\n",
       "      <td>6</td>\n",
       "      <td>6</td>\n",
       "      <td>6000</td>\n",
       "      <td>121.155589</td>\n",
       "      <td>31.169113</td>\n",
       "      <td>1</td>\n",
       "      <td>1</td>\n",
       "      <td>1</td>\n",
       "      <td>71</td>\n",
       "      <td>0</td>\n",
       "      <td>0</td>\n",
       "      <td>4</td>\n",
       "      <td>1</td>\n",
       "    </tr>\n",
       "  </tbody>\n",
       "</table>\n",
       "</div>"
      ],
      "text/plain": [
       "  行政区    房屋面积  卧室  客厅  厕所 楼层相对位置  楼层  发布时长   每月租金          经度         纬度  \\\n",
       "0  徐汇   90.56   2   2   1    高楼层   7     4  12000  121.465427  31.206022   \n",
       "1  静安  223.47   4   2   3    高楼层  26     3  65000  121.481124  31.249035   \n",
       "2  宝山   60.06   1   1   1    高楼层  19     4   4700  121.442076  31.344595   \n",
       "3  浦东   54.87   1   2   1    高楼层  25     1   5200  121.562591  31.252661   \n",
       "4  青浦  120.91   3   2   2    低楼层   6     6   6000  121.155589  31.169113   \n",
       "\n",
       "   1000米内最近地铁站距离  1000米内最近公交车站距离  1000米内购物中心数量  1000米内公司数量  1000米内公园数量  \\\n",
       "0              1               1             2          87           0   \n",
       "1              1               1            14          86           2   \n",
       "2              1               1             1          96           5   \n",
       "3              2               1             3          89           2   \n",
       "4              1               1             1          71           0   \n",
       "\n",
       "   1000米内医院数量  房屋类型  是否朝南  \n",
       "0           4     4     1  \n",
       "1           3     4     1  \n",
       "2           2     4     1  \n",
       "3           2     4     1  \n",
       "4           0     4     1  "
      ]
     },
     "execution_count": 3,
     "metadata": {},
     "output_type": "execute_result"
    }
   ],
   "source": [
    "house.head()"
   ]
  },
  {
   "cell_type": "code",
   "execution_count": 4,
   "metadata": {},
   "outputs": [],
   "source": [
    "house_arr = house[\"行政区\"].unique()"
   ]
  },
  {
   "cell_type": "code",
   "execution_count": 5,
   "metadata": {},
   "outputs": [
    {
     "data": {
      "text/plain": [
       "array(['徐汇', '静安', '宝山', '浦东', '青浦', '长宁', '奉贤', '普陀', '松江', '黄浦', '嘉定',\n",
       "       '虹口', '闵行', '金山', '杨浦', '崇明'], dtype=object)"
      ]
     },
     "execution_count": 5,
     "metadata": {},
     "output_type": "execute_result"
    }
   ],
   "source": [
    "house_arr"
   ]
  },
  {
   "cell_type": "code",
   "execution_count": 6,
   "metadata": {},
   "outputs": [
    {
     "data": {
      "text/plain": [
       "'徐汇静安宝山浦东青浦长宁奉贤普陀松江黄浦嘉定虹口闵行金山杨浦崇明'"
      ]
     },
     "execution_count": 6,
     "metadata": {},
     "output_type": "execute_result"
    }
   ],
   "source": [
    "house_arr.sum()"
   ]
  },
  {
   "cell_type": "code",
   "execution_count": 7,
   "metadata": {},
   "outputs": [],
   "source": [
    "temp= house[\"行政区\"] == \"徐汇\""
   ]
  },
  {
   "cell_type": "code",
   "execution_count": 8,
   "metadata": {},
   "outputs": [],
   "source": [
    "house_xvhui = house.loc[temp,:]"
   ]
  },
  {
   "cell_type": "code",
   "execution_count": 9,
   "metadata": {},
   "outputs": [
    {
     "data": {
      "text/html": [
       "<div>\n",
       "<style scoped>\n",
       "    .dataframe tbody tr th:only-of-type {\n",
       "        vertical-align: middle;\n",
       "    }\n",
       "\n",
       "    .dataframe tbody tr th {\n",
       "        vertical-align: top;\n",
       "    }\n",
       "\n",
       "    .dataframe thead th {\n",
       "        text-align: right;\n",
       "    }\n",
       "</style>\n",
       "<table border=\"1\" class=\"dataframe\">\n",
       "  <thead>\n",
       "    <tr style=\"text-align: right;\">\n",
       "      <th></th>\n",
       "      <th>行政区</th>\n",
       "      <th>房屋面积</th>\n",
       "      <th>卧室</th>\n",
       "      <th>客厅</th>\n",
       "      <th>厕所</th>\n",
       "      <th>楼层相对位置</th>\n",
       "      <th>楼层</th>\n",
       "      <th>发布时长</th>\n",
       "      <th>每月租金</th>\n",
       "      <th>经度</th>\n",
       "      <th>纬度</th>\n",
       "      <th>1000米内最近地铁站距离</th>\n",
       "      <th>1000米内最近公交车站距离</th>\n",
       "      <th>1000米内购物中心数量</th>\n",
       "      <th>1000米内公司数量</th>\n",
       "      <th>1000米内公园数量</th>\n",
       "      <th>1000米内医院数量</th>\n",
       "      <th>房屋类型</th>\n",
       "      <th>是否朝南</th>\n",
       "    </tr>\n",
       "  </thead>\n",
       "  <tbody>\n",
       "    <tr>\n",
       "      <th>0</th>\n",
       "      <td>徐汇</td>\n",
       "      <td>90.56</td>\n",
       "      <td>2</td>\n",
       "      <td>2</td>\n",
       "      <td>1</td>\n",
       "      <td>高楼层</td>\n",
       "      <td>7</td>\n",
       "      <td>4</td>\n",
       "      <td>12000</td>\n",
       "      <td>121.465427</td>\n",
       "      <td>31.206022</td>\n",
       "      <td>1</td>\n",
       "      <td>1</td>\n",
       "      <td>2</td>\n",
       "      <td>87</td>\n",
       "      <td>0</td>\n",
       "      <td>4</td>\n",
       "      <td>4</td>\n",
       "      <td>1</td>\n",
       "    </tr>\n",
       "    <tr>\n",
       "      <th>16</th>\n",
       "      <td>徐汇</td>\n",
       "      <td>106.04</td>\n",
       "      <td>2</td>\n",
       "      <td>2</td>\n",
       "      <td>1</td>\n",
       "      <td>中楼层</td>\n",
       "      <td>31</td>\n",
       "      <td>2</td>\n",
       "      <td>11000</td>\n",
       "      <td>121.459437</td>\n",
       "      <td>31.147336</td>\n",
       "      <td>2</td>\n",
       "      <td>1</td>\n",
       "      <td>1</td>\n",
       "      <td>103</td>\n",
       "      <td>0</td>\n",
       "      <td>0</td>\n",
       "      <td>4</td>\n",
       "      <td>1</td>\n",
       "    </tr>\n",
       "    <tr>\n",
       "      <th>19</th>\n",
       "      <td>徐汇</td>\n",
       "      <td>67.34</td>\n",
       "      <td>2</td>\n",
       "      <td>1</td>\n",
       "      <td>1</td>\n",
       "      <td>高楼层</td>\n",
       "      <td>18</td>\n",
       "      <td>1</td>\n",
       "      <td>8500</td>\n",
       "      <td>121.448143</td>\n",
       "      <td>31.197769</td>\n",
       "      <td>2</td>\n",
       "      <td>1</td>\n",
       "      <td>22</td>\n",
       "      <td>90</td>\n",
       "      <td>3</td>\n",
       "      <td>9</td>\n",
       "      <td>4</td>\n",
       "      <td>1</td>\n",
       "    </tr>\n",
       "    <tr>\n",
       "      <th>40</th>\n",
       "      <td>徐汇</td>\n",
       "      <td>46.90</td>\n",
       "      <td>1</td>\n",
       "      <td>1</td>\n",
       "      <td>1</td>\n",
       "      <td>低楼层</td>\n",
       "      <td>29</td>\n",
       "      <td>7</td>\n",
       "      <td>8500</td>\n",
       "      <td>121.457025</td>\n",
       "      <td>31.206840</td>\n",
       "      <td>1</td>\n",
       "      <td>1</td>\n",
       "      <td>2</td>\n",
       "      <td>107</td>\n",
       "      <td>3</td>\n",
       "      <td>7</td>\n",
       "      <td>4</td>\n",
       "      <td>1</td>\n",
       "    </tr>\n",
       "    <tr>\n",
       "      <th>42</th>\n",
       "      <td>徐汇</td>\n",
       "      <td>37.24</td>\n",
       "      <td>1</td>\n",
       "      <td>1</td>\n",
       "      <td>1</td>\n",
       "      <td>高楼层</td>\n",
       "      <td>6</td>\n",
       "      <td>1</td>\n",
       "      <td>5100</td>\n",
       "      <td>121.450435</td>\n",
       "      <td>31.193966</td>\n",
       "      <td>1</td>\n",
       "      <td>1</td>\n",
       "      <td>16</td>\n",
       "      <td>88</td>\n",
       "      <td>2</td>\n",
       "      <td>8</td>\n",
       "      <td>4</td>\n",
       "      <td>1</td>\n",
       "    </tr>\n",
       "  </tbody>\n",
       "</table>\n",
       "</div>"
      ],
      "text/plain": [
       "   行政区    房屋面积  卧室  客厅  厕所 楼层相对位置  楼层  发布时长   每月租金          经度         纬度  \\\n",
       "0   徐汇   90.56   2   2   1    高楼层   7     4  12000  121.465427  31.206022   \n",
       "16  徐汇  106.04   2   2   1    中楼层  31     2  11000  121.459437  31.147336   \n",
       "19  徐汇   67.34   2   1   1    高楼层  18     1   8500  121.448143  31.197769   \n",
       "40  徐汇   46.90   1   1   1    低楼层  29     7   8500  121.457025  31.206840   \n",
       "42  徐汇   37.24   1   1   1    高楼层   6     1   5100  121.450435  31.193966   \n",
       "\n",
       "    1000米内最近地铁站距离  1000米内最近公交车站距离  1000米内购物中心数量  1000米内公司数量  1000米内公园数量  \\\n",
       "0               1               1             2          87           0   \n",
       "16              2               1             1         103           0   \n",
       "19              2               1            22          90           3   \n",
       "40              1               1             2         107           3   \n",
       "42              1               1            16          88           2   \n",
       "\n",
       "    1000米内医院数量  房屋类型  是否朝南  \n",
       "0            4     4     1  \n",
       "16           0     4     1  \n",
       "19           9     4     1  \n",
       "40           7     4     1  \n",
       "42           8     4     1  "
      ]
     },
     "execution_count": 9,
     "metadata": {},
     "output_type": "execute_result"
    }
   ],
   "source": [
    "house_xvhui.head()"
   ]
  },
  {
   "cell_type": "code",
   "execution_count": 10,
   "metadata": {},
   "outputs": [
    {
     "data": {
      "text/plain": [
       "7500.0"
      ]
     },
     "execution_count": 10,
     "metadata": {},
     "output_type": "execute_result"
    }
   ],
   "source": [
    "house_xvhui[\"每月租金\"].median()"
   ]
  },
  {
   "cell_type": "code",
   "execution_count": 11,
   "metadata": {},
   "outputs": [
    {
     "data": {
      "text/plain": [
       "7000.0"
      ]
     },
     "execution_count": 11,
     "metadata": {},
     "output_type": "execute_result"
    }
   ],
   "source": [
    "temp= house[\"行政区\"] == \"静安\"\n",
    "house_jingan = house.loc[temp,:]\n",
    "house_jingan[\"每月租金\"].median()"
   ]
  },
  {
   "cell_type": "code",
   "execution_count": 12,
   "metadata": {},
   "outputs": [
    {
     "data": {
      "text/plain": [
       "4800.0"
      ]
     },
     "execution_count": 12,
     "metadata": {},
     "output_type": "execute_result"
    }
   ],
   "source": [
    "temp= house[\"行政区\"] == \"宝山\"\n",
    "house_jingan = house.loc[temp,:]\n",
    "house_jingan[\"每月租金\"].median()"
   ]
  },
  {
   "cell_type": "code",
   "execution_count": 13,
   "metadata": {},
   "outputs": [
    {
     "data": {
      "text/plain": [
       "6600.0"
      ]
     },
     "execution_count": 13,
     "metadata": {},
     "output_type": "execute_result"
    }
   ],
   "source": [
    "temp= house[\"行政区\"] == \"浦东\"\n",
    "house_jingan = house.loc[temp,:]\n",
    "house_jingan[\"每月租金\"].median()"
   ]
  },
  {
   "cell_type": "code",
   "execution_count": 14,
   "metadata": {},
   "outputs": [
    {
     "data": {
      "text/plain": [
       "5500.0"
      ]
     },
     "execution_count": 14,
     "metadata": {},
     "output_type": "execute_result"
    }
   ],
   "source": [
    "temp= house[\"行政区\"] == \"青浦\"\n",
    "house_jingan = house.loc[temp,:]\n",
    "house_jingan[\"每月租金\"].median()"
   ]
  },
  {
   "cell_type": "code",
   "execution_count": 15,
   "metadata": {},
   "outputs": [
    {
     "data": {
      "text/plain": [
       "7500.0"
      ]
     },
     "execution_count": 15,
     "metadata": {},
     "output_type": "execute_result"
    }
   ],
   "source": [
    "temp= house[\"行政区\"] == \"长宁\"\n",
    "house_jingan = house.loc[temp,:]\n",
    "house_jingan[\"每月租金\"].median()"
   ]
  },
  {
   "cell_type": "code",
   "execution_count": 16,
   "metadata": {},
   "outputs": [
    {
     "data": {
      "text/plain": [
       "3000.0"
      ]
     },
     "execution_count": 16,
     "metadata": {},
     "output_type": "execute_result"
    }
   ],
   "source": [
    "temp= house[\"行政区\"] == \"奉贤\"\n",
    "house_jingan = house.loc[temp,:]\n",
    "house_jingan[\"每月租金\"].median()"
   ]
  },
  {
   "cell_type": "code",
   "execution_count": 17,
   "metadata": {},
   "outputs": [
    {
     "data": {
      "text/plain": [
       "5800.0"
      ]
     },
     "execution_count": 17,
     "metadata": {},
     "output_type": "execute_result"
    }
   ],
   "source": [
    "temp= house[\"行政区\"] == \"普陀\"\n",
    "house_jingan = house.loc[temp,:]\n",
    "house_jingan[\"每月租金\"].median()"
   ]
  },
  {
   "cell_type": "code",
   "execution_count": 18,
   "metadata": {},
   "outputs": [
    {
     "data": {
      "text/plain": [
       "5050.0"
      ]
     },
     "execution_count": 18,
     "metadata": {},
     "output_type": "execute_result"
    }
   ],
   "source": [
    "temp= house[\"行政区\"] == \"松江\"\n",
    "house_jingan = house.loc[temp,:]\n",
    "house_jingan[\"每月租金\"].median()"
   ]
  },
  {
   "cell_type": "code",
   "execution_count": 19,
   "metadata": {},
   "outputs": [
    {
     "data": {
      "text/plain": [
       "11000.0"
      ]
     },
     "execution_count": 19,
     "metadata": {},
     "output_type": "execute_result"
    }
   ],
   "source": [
    "temp= house[\"行政区\"] == \"黄浦\"\n",
    "house_jingan = house.loc[temp,:]\n",
    "house_jingan[\"每月租金\"].median()"
   ]
  },
  {
   "cell_type": "code",
   "execution_count": 20,
   "metadata": {},
   "outputs": [
    {
     "data": {
      "text/plain": [
       "4700.0"
      ]
     },
     "execution_count": 20,
     "metadata": {},
     "output_type": "execute_result"
    }
   ],
   "source": [
    "temp= house[\"行政区\"] == \"嘉定\"\n",
    "house_jingan = house.loc[temp,:]\n",
    "house_jingan[\"每月租金\"].median()"
   ]
  },
  {
   "cell_type": "code",
   "execution_count": 21,
   "metadata": {},
   "outputs": [
    {
     "data": {
      "text/plain": [
       "6300.0"
      ]
     },
     "execution_count": 21,
     "metadata": {},
     "output_type": "execute_result"
    }
   ],
   "source": [
    "temp= house[\"行政区\"] == \"虹口\"\n",
    "house_jingan = house.loc[temp,:]\n",
    "house_jingan[\"每月租金\"].median()"
   ]
  },
  {
   "cell_type": "code",
   "execution_count": 22,
   "metadata": {},
   "outputs": [
    {
     "data": {
      "text/plain": [
       "6200.0"
      ]
     },
     "execution_count": 22,
     "metadata": {},
     "output_type": "execute_result"
    }
   ],
   "source": [
    "temp= house[\"行政区\"] == \"闵行\"\n",
    "house_jingan = house.loc[temp,:]\n",
    "house_jingan[\"每月租金\"].median()"
   ]
  },
  {
   "cell_type": "code",
   "execution_count": 23,
   "metadata": {},
   "outputs": [
    {
     "data": {
      "text/plain": [
       "2500.0"
      ]
     },
     "execution_count": 23,
     "metadata": {},
     "output_type": "execute_result"
    }
   ],
   "source": [
    "temp= house[\"行政区\"] == \"金山\"\n",
    "house_jingan = house.loc[temp,:]\n",
    "house_jingan[\"每月租金\"].median()"
   ]
  },
  {
   "cell_type": "code",
   "execution_count": 24,
   "metadata": {},
   "outputs": [
    {
     "data": {
      "text/plain": [
       "5500.0"
      ]
     },
     "execution_count": 24,
     "metadata": {},
     "output_type": "execute_result"
    }
   ],
   "source": [
    "temp= house[\"行政区\"] == \"杨浦\"\n",
    "house_jingan = house.loc[temp,:]\n",
    "house_jingan[\"每月租金\"].median()"
   ]
  },
  {
   "cell_type": "code",
   "execution_count": 25,
   "metadata": {},
   "outputs": [
    {
     "data": {
      "text/plain": [
       "2700.0"
      ]
     },
     "execution_count": 25,
     "metadata": {},
     "output_type": "execute_result"
    }
   ],
   "source": [
    "temp= house[\"行政区\"] == \"崇明\"\n",
    "house_jingan = house.loc[temp,:]\n",
    "house_jingan[\"每月租金\"].median()"
   ]
  },
  {
   "cell_type": "code",
   "execution_count": 26,
   "metadata": {},
   "outputs": [],
   "source": [
    "data = [[\"徐汇区\",7500],[\"静安区\",7000],[\"宝山区\",4800],[\"浦东新区\",6600],[\"青浦区\",5500],[\"长宁区\",7500],[\"奉贤区\",3000],[\"普陀区\",5800],[\"松江区\",5050],[\"黄浦区\",11000],[\"嘉定区\",4700],[\"虹口区\",6300],[\"闵行区\",6200],[\"金山区\",2500],[\"杨浦区\",5500],[\"崇明区\",2700]]"
   ]
  },
  {
   "cell_type": "code",
   "execution_count": 27,
   "metadata": {},
   "outputs": [],
   "source": [
    "df = pd.DataFrame(data = data, columns = [\"行政区\",\"月租中位数\"])"
   ]
  },
  {
   "cell_type": "code",
   "execution_count": 28,
   "metadata": {},
   "outputs": [
    {
     "data": {
      "text/html": [
       "<div>\n",
       "<style scoped>\n",
       "    .dataframe tbody tr th:only-of-type {\n",
       "        vertical-align: middle;\n",
       "    }\n",
       "\n",
       "    .dataframe tbody tr th {\n",
       "        vertical-align: top;\n",
       "    }\n",
       "\n",
       "    .dataframe thead th {\n",
       "        text-align: right;\n",
       "    }\n",
       "</style>\n",
       "<table border=\"1\" class=\"dataframe\">\n",
       "  <thead>\n",
       "    <tr style=\"text-align: right;\">\n",
       "      <th></th>\n",
       "      <th>行政区</th>\n",
       "      <th>月租中位数</th>\n",
       "    </tr>\n",
       "  </thead>\n",
       "  <tbody>\n",
       "    <tr>\n",
       "      <th>0</th>\n",
       "      <td>徐汇区</td>\n",
       "      <td>7500</td>\n",
       "    </tr>\n",
       "    <tr>\n",
       "      <th>1</th>\n",
       "      <td>静安区</td>\n",
       "      <td>7000</td>\n",
       "    </tr>\n",
       "    <tr>\n",
       "      <th>2</th>\n",
       "      <td>宝山区</td>\n",
       "      <td>4800</td>\n",
       "    </tr>\n",
       "    <tr>\n",
       "      <th>3</th>\n",
       "      <td>浦东新区</td>\n",
       "      <td>6600</td>\n",
       "    </tr>\n",
       "    <tr>\n",
       "      <th>4</th>\n",
       "      <td>青浦区</td>\n",
       "      <td>5500</td>\n",
       "    </tr>\n",
       "    <tr>\n",
       "      <th>5</th>\n",
       "      <td>长宁区</td>\n",
       "      <td>7500</td>\n",
       "    </tr>\n",
       "    <tr>\n",
       "      <th>6</th>\n",
       "      <td>奉贤区</td>\n",
       "      <td>3000</td>\n",
       "    </tr>\n",
       "    <tr>\n",
       "      <th>7</th>\n",
       "      <td>普陀区</td>\n",
       "      <td>5800</td>\n",
       "    </tr>\n",
       "    <tr>\n",
       "      <th>8</th>\n",
       "      <td>松江区</td>\n",
       "      <td>5050</td>\n",
       "    </tr>\n",
       "    <tr>\n",
       "      <th>9</th>\n",
       "      <td>黄浦区</td>\n",
       "      <td>11000</td>\n",
       "    </tr>\n",
       "    <tr>\n",
       "      <th>10</th>\n",
       "      <td>嘉定区</td>\n",
       "      <td>4700</td>\n",
       "    </tr>\n",
       "    <tr>\n",
       "      <th>11</th>\n",
       "      <td>虹口区</td>\n",
       "      <td>6300</td>\n",
       "    </tr>\n",
       "    <tr>\n",
       "      <th>12</th>\n",
       "      <td>闵行区</td>\n",
       "      <td>6200</td>\n",
       "    </tr>\n",
       "    <tr>\n",
       "      <th>13</th>\n",
       "      <td>金山区</td>\n",
       "      <td>2500</td>\n",
       "    </tr>\n",
       "    <tr>\n",
       "      <th>14</th>\n",
       "      <td>杨浦区</td>\n",
       "      <td>5500</td>\n",
       "    </tr>\n",
       "    <tr>\n",
       "      <th>15</th>\n",
       "      <td>崇明区</td>\n",
       "      <td>2700</td>\n",
       "    </tr>\n",
       "  </tbody>\n",
       "</table>\n",
       "</div>"
      ],
      "text/plain": [
       "     行政区  月租中位数\n",
       "0    徐汇区   7500\n",
       "1    静安区   7000\n",
       "2    宝山区   4800\n",
       "3   浦东新区   6600\n",
       "4    青浦区   5500\n",
       "5    长宁区   7500\n",
       "6    奉贤区   3000\n",
       "7    普陀区   5800\n",
       "8    松江区   5050\n",
       "9    黄浦区  11000\n",
       "10   嘉定区   4700\n",
       "11   虹口区   6300\n",
       "12   闵行区   6200\n",
       "13   金山区   2500\n",
       "14   杨浦区   5500\n",
       "15   崇明区   2700"
      ]
     },
     "execution_count": 28,
     "metadata": {},
     "output_type": "execute_result"
    }
   ],
   "source": [
    "df"
   ]
  },
  {
   "cell_type": "code",
   "execution_count": 29,
   "metadata": {},
   "outputs": [],
   "source": [
    "from pyecharts.charts import Map\n",
    "from pyecharts import options as opts "
   ]
  },
  {
   "cell_type": "code",
   "execution_count": 30,
   "metadata": {},
   "outputs": [
    {
     "data": {
      "text/plain": [
       "'E:\\\\数据处理与可视化\\\\大作业\\\\map地图.html'"
      ]
     },
     "execution_count": 30,
     "metadata": {},
     "output_type": "execute_result"
    }
   ],
   "source": [
    "map=Map(init_opts=opts.InitOpts(width=\"1200px\",height='1200px'))\n",
    "map.add('上海房屋月租',data_pair=data,maptype='上海',is_map_symbol_show=False)\n",
    "map.set_series_opts(label_opts=opts.LabelOpts(is_show=True))\n",
    "map.set_global_opts(title_opts=opts.TitleOpts(title='上海房屋月租分布图'),\n",
    "    visualmap_opts=opts.VisualMapOpts(max_=11000,is_piecewise=True,range_color=['lightskyblue','yellow','orangered']))\n",
    "map.render('map地图.html') "
   ]
  },
  {
   "cell_type": "code",
   "execution_count": 31,
   "metadata": {},
   "outputs": [],
   "source": [
    "df.to_csv(\"上海各行政区房租中位数.csv\")"
   ]
  }
 ],
 "metadata": {
  "kernelspec": {
   "display_name": "Python 3",
   "language": "python",
   "name": "python3"
  },
  "language_info": {
   "codemirror_mode": {
    "name": "ipython",
    "version": 3
   },
   "file_extension": ".py",
   "mimetype": "text/x-python",
   "name": "python",
   "nbconvert_exporter": "python",
   "pygments_lexer": "ipython3",
   "version": "3.6.4"
  }
 },
 "nbformat": 4,
 "nbformat_minor": 2
}
